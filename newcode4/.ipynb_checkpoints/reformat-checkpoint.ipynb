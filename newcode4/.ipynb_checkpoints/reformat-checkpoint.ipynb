{
 "cells": [
  {
   "cell_type": "code",
   "execution_count": 1,
   "metadata": {
    "collapsed": true
   },
   "outputs": [],
   "source": [
    "import os, sys\n",
    "import numpy as np\n",
    "import scipy as sp\n",
    "import pylab as py\n",
    "from mpl_toolkits.mplot3d import Axes3D\n",
    "from matplotlib import rc\n",
    "from matplotlib.colors import LogNorm\n",
    "from matplotlib.font_manager import FontProperties\n",
    "rc('font',**{'family':'sans-serif','sans-serif':['Helvetica']})\n",
    "rc('text',usetex=True)\n",
    "%matplotlib inline\n",
    "from ipywidgets import interact, interactive, fixed, interact_manual\n",
    "import ipywidgets as widgets\n",
    "from scipy.optimize import minimize, curve_fit"
   ]
  },
  {
   "cell_type": "markdown",
   "metadata": {},
   "source": [
    "# Data Format"
   ]
  },
  {
   "cell_type": "code",
   "execution_count": 12,
   "metadata": {},
   "outputs": [],
   "source": [
    "# E288 200 GeV Drell-Yan\n",
    "data = np.loadtxt(\"../Data/DY/DY.E288_200.list\", skiprows=15)\n",
    "data[:,2] = (data[:,2] + np.abs(data[:,2])) / 2\n",
    "data[:,2] = data[:,2] * 1e26 / ((data[:,0] + 0.5)**2 - (data[:,0] - 0.5)**2) * np.pi\n",
    "data[:,3] = data[:,3] * 1e26 / ((data[:,0] + 0.5)**2 - (data[:,0] - 0.5)**2) * np.pi\n",
    "np.savetxt(\"data/reformat-E288-200.dat\", data, fmt='%.4e', delimiter='\\t',\\\n",
    "           header='E288 200GeV sqrt(s)=19.40 y~0.4\\n'+'m(GeV)\\t qT(GeV)\\t E*dsig/dydqT^2dQ^2(fm^2/GeV^4)\\t Estat')"
   ]
  },
  {
   "cell_type": "code",
   "execution_count": 13,
   "metadata": {
    "collapsed": true
   },
   "outputs": [],
   "source": [
    "# E288 300 GeV Drell-Yan\n",
    "data = np.loadtxt(\"../Data/DY/DY.E288_300.list\", skiprows=15)\n",
    "data[:,2] = (data[:,2] + np.abs(data[:,2])) / 2\n",
    "data[:,2] = data[:,2] * 1e26 / ((data[:,0] + 0.5)**2 - (data[:,0] - 0.5)**2) * np.pi\n",
    "data[:,3] = data[:,3] * 1e26 / ((data[:,0] + 0.5)**2 - (data[:,0] - 0.5)**2) * np.pi\n",
    "np.savetxt(\"data/reformat-E288-300.dat\", data, fmt='%.4e', delimiter='\\t',\\\n",
    "           header='E288 300GeV sqrt(s)=23.75 y~0.21\\n'+'m(GeV)\\t qT(GeV)\\t E*dsig/dydqT^2dQ^2(fm^2/GeV^4)\\t Estat')"
   ]
  },
  {
   "cell_type": "code",
   "execution_count": 14,
   "metadata": {
    "collapsed": true
   },
   "outputs": [],
   "source": [
    "# E288 400 GeV Drell-Yan\n",
    "data = np.loadtxt(\"../Data/DY/DY.E288_400.list\", skiprows=15)\n",
    "data[:,2] = (data[:,2] + np.abs(data[:,2])) / 2\n",
    "data[:,2] = data[:,2] * 1e26 / ((data[:,0] + 0.5)**2 - (data[:,0] - 0.5)**2) * np.pi\n",
    "data[:,3] = data[:,3] * 1e26 / ((data[:,0] + 0.5)**2 - (data[:,0] - 0.5)**2) * np.pi\n",
    "np.savetxt(\"data/reformat-E288-400.dat\", data, fmt='%.4e', delimiter='\\t',\\\n",
    "           header='E288 400GeV sqrt(s)=27.42 y~0.03\\n'+'m(GeV)\\t qT(GeV)\\t E*dsig/dydqT^2dQ^2(fm^2/GeV^4)\\t Estat')"
   ]
  },
  {
   "cell_type": "code",
   "execution_count": 20,
   "metadata": {},
   "outputs": [],
   "source": [
    "# E605 800 GeV Drell-Yan\n",
    "data = np.loadtxt(\"../Data/DY/DY.E605.list\", skiprows=15)\n",
    "data[:,2:4] = data[:,2:4] * 1e26\n",
    "data[data[:,0]<12.0,2] = data[data[:,0]<12.0,2] / ((data[data[:,0]<12.0,0]+0.5)**2 - (data[data[:,0]<12.0,0]-0.5)**2) * np.pi\n",
    "data[data[:,0]<12.0,3] = data[data[:,0]<12.0,3] / ((data[data[:,0]<12.0,0]+0.5)**2 - (data[data[:,0]<12.0,0]-0.5)**2) * np.pi\n",
    "data[data[:,0]==12.5,2] = data[data[:,0]==12.5,2] / (13.5**2 - 11.5**2) * np.pi\n",
    "data[data[:,0]==12.5,3] = data[data[:,0]==12.5,3] / (13.5**2 - 11.5**2) * np.pi\n",
    "data[data[:,0]==15.8,2] = data[data[:,0]==15.8,2] / (18.0**2 - 13.5**2) * np.pi\n",
    "data[data[:,0]==15.8,3] = data[data[:,0]==15.8,3] / (18.0**2 - 13.5**2) * np.pi\n",
    "np.savetxt(\"data/reformat-E605-800.dat\", data, fmt='%.4e', delimiter='\\t',\\\n",
    "           header='E605 800GeV sqrt(s)=38.77 xF~0.1\\n'+'m(GeV)\\t qT(GeV)\\t E*dsig/dydqT^2dQ^2(fm^2/GeV^4)\\t Estat')"
   ]
  },
  {
   "cell_type": "code",
   "execution_count": 21,
   "metadata": {
    "collapsed": true
   },
   "outputs": [],
   "source": [
    "# E772 800 GeV Drell-Yan\n",
    "data = np.loadtxt(\"../Data/DY/DY.E772.list\", skiprows=15)\n",
    "data[:,2:4] = data[:,2:4] * 1e-10\n",
    "data[:,2] = data[:,2]/ ((data[:,0] + 0.5)**2 - (data[:,0] - 0.5)**2) * np.pi\n",
    "data[:,3] = data[:,3]/ ((data[:,0] + 0.5)**2 - (data[:,0] - 0.5)**2) * np.pi\n",
    "np.savetxt(\"data/reformat-E772-800.dat\", data, fmt='%.4e', delimiter='\\t',\\\n",
    "           header='E772 800GeV sqrt(s)=38.77 xF:[0.1,0.3]\\n'+'m(GeV)\\t qT(GeV)\\t E*dsig/dydqT^2dQ^2(fm^2/GeV^4)\\t Estat')"
   ]
  },
  {
   "cell_type": "code",
   "execution_count": null,
   "metadata": {
    "collapsed": true
   },
   "outputs": [],
   "source": []
  }
 ],
 "metadata": {
  "kernelspec": {
   "display_name": "Python 2",
   "language": "python",
   "name": "python2"
  },
  "language_info": {
   "codemirror_mode": {
    "name": "ipython",
    "version": 2
   },
   "file_extension": ".py",
   "mimetype": "text/x-python",
   "name": "python",
   "nbconvert_exporter": "python",
   "pygments_lexer": "ipython2",
   "version": "2.7.13"
  }
 },
 "nbformat": 4,
 "nbformat_minor": 2
}
